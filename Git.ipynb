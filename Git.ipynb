{
  "nbformat": 4,
  "nbformat_minor": 0,
  "metadata": {
    "colab": {
      "provenance": [],
      "toc_visible": true
    },
    "kernelspec": {
      "name": "python3",
      "display_name": "Python 3"
    },
    "language_info": {
      "name": "python"
    }
  },
  "cells": [
    {
      "cell_type": "code",
      "execution_count": null,
      "metadata": {
        "id": "FlXV8C633kxX"
      },
      "outputs": [],
      "source": [
        "Task 1: File Management Script\n",
        "\n",
        "Write a Bash script thatg\n",
        "- Creates a directory named \"backup\" in the user's home directory^\n",
        "- Copies all .txt files from the current directory into the \"backup\" directory^\n",
        "- Appends the current date and time to the filenames of the copied files."
      ]
    },
    {
      "cell_type": "code",
      "source": [
        "#!/bin/bash\n",
        "# Task 1: File Management Script\n",
        "\n",
        "# Step 1: Create backup folder in user's home directory\n",
        "BACKUP_DIR=\"$HOME/backup\"\n",
        "mkdir -p \"$BACKUP_DIR\"\n",
        "\n",
        "TIMESTAMP=$(date +\"%Y-%m-%d_%H-%M-%S\")\n",
        "\n",
        "#\n",
        "for file in *.txt; do\n",
        "    if [ -f \"$file\" ]; then\n",
        "        base_name=$(basename \"$file\" .txt)\n",
        "        cp \"$file\" \"$BACKUP_DIR/${base_name}_${TIMESTAMP}.txt\"\n",
        "    fi\n",
        "done\n",
        "\n",
        "echo \"✅ Backup completed! Files copied to: $BACKUP_DIR\"\n"
      ],
      "metadata": {
        "id": "2feQJOAN3_kP"
      },
      "execution_count": null,
      "outputs": []
    },
    {
      "cell_type": "markdown",
      "source": [
        "Task 2: System Health Check\n",
        "\n",
        "Create a script thatg\n",
        "- Checks the system’s CPU and memory usage^\n",
        "- Reports if the CPU usage is above 80% or if the available memory is below 20%^\n",
        "- Logs the results to a file named system_health.log.\n"
      ],
      "metadata": {
        "id": "IFSZGk49Cf4g"
      }
    },
    {
      "cell_type": "code",
      "source": [
        "#!/bin/bash\n",
        "\n",
        "LOG_FILE=\"system_health.log\"\n",
        "DATE=$(date '+%Y-%m-%d %H:%M:%S')\n",
        "\n",
        "# Get CPU usage (excluding idle)\n",
        "CPU_USAGE=$(top -bn1 | grep \"Cpu(s)\" | awk '{print 100 - $8}' | cut -d. -f1)\n",
        "\n",
        "# Get total and available memory\n",
        "MEM_TOTAL=$(free -m | awk '/Mem:/{print $2}')\n",
        "MEM_AVAILABLE=$(free -m | awk '/Mem:/{print $7}')\n",
        "MEM_USED=$((MEM_TOTAL - MEM_AVAILABLE))\n",
        "MEM_AVAILABLE_PERCENTAGE=$((MEM_AVAILABLE * 100 / MEM_TOTAL))\n",
        "\n",
        "echo \"DATE: $DATE\"\n",
        "echo \"CPU_USAGE: $CPU_USAGE%\"\n",
        "echo \"MEM_TOTAL: $MEM_TOTAL MB\"\n",
        "echo \"MEM_AVAILABLE: $MEM_AVAILABLE MB\"\n",
        "echo \"MEM_AVAILABLE_PERCENTAGE: $MEM_AVAILABLE_PERCENTAGE%\"\n",
        "# Log system health\n",
        "echo \"$DATE | CPU: ${CPU_USAGE}% | Memory Available: ${MEM_AVAILABLE_PERCENTAGE}%\" >> \"$LOG_FILE\"\n",
        "\n",
        "# Check if CPU usage is above 80%\n",
        "if [ \"$CPU_USAGE\" -gt 80 ]; then\n",
        "  echo \"CPU usage above 80%\" >> \"$LOG_FILE\"\n",
        "fi\n",
        "\n",
        "# Check if available memory is below 20%\n",
        "if [ \"$MEM_AVAILABLE_PERCENTAGE\" -lt 20 ]; then\n",
        "  echo \"Available memory below 20%\" >> \"$LOG_FILE\"\n",
        "fi\n",
        "\n",
        "echo \"System health check completed. Log saved to $LOG_FILE.\"\n"
      ],
      "metadata": {
        "id": "QGK6ZiZuCrWv"
      },
      "execution_count": null,
      "outputs": []
    },
    {
      "cell_type": "markdown",
      "source": [
        "Task 3: User Account Management\n",
        "\n",
        "Write a script thatg\n",
        "- Reads a list of usernames from a file (e.g., user_list.txt)^\n",
        "- Creates a new user for each username^\n",
        "- Generates a random password for each user and saves the username and password to a file named\n",
        "credentials.txt.\n"
      ],
      "metadata": {
        "id": "JJIcQiMbxjnt"
      }
    },
    {
      "cell_type": "code",
      "source": [
        "#!/bin/bash\n",
        "\n",
        "USER_LIST=\"user_list.txt\"\n",
        "CREDENTIALS_LIST=\"Credentials.txt\"\n",
        "\n",
        "# Check if script is run as root\n",
        "if [ \"$(id -u)\" -ne 0 ]; then\n",
        "  echo \"ERROR: Please run this script as root (use sudo).\" >&2\n",
        "  exit 1\n",
        "fi\n",
        "\n",
        "# Check if the user list file exists\n",
        "if [ ! -f \"$USER_LIST\" ]; then\n",
        "  echo \"ERROR: $USER_LIST not found!\" >&2\n",
        "  exit 1\n",
        "fi\n",
        "\n",
        "# Empty the credentials file before starting\n",
        "> \"$CREDENTIALS_LIST\"\n",
        "\n",
        "# Loop through each username in the user list\n",
        "while IFS= read -r USERNAME; do\n",
        "  # Skip empty lines\n",
        "  if [ -z \"$USERNAME\" ]; then\n",
        "    continue\n",
        "  fi\n",
        "\n",
        "  # Check if the user already exists\n",
        "  if id \"$USERNAME\" &>/dev/null; then\n",
        "    echo \"Skipping: user '$USERNAME' already exists.\"\n",
        "    continue\n",
        "  fi\n",
        "\n",
        "  # Generate a random password (12 characters)\n",
        "  PASSWORD=$(openssl rand -base64 12)\n",
        "\n",
        "  # Create the user\n",
        "  useradd -m -s /bin/bash \"$USERNAME\"\n",
        "\n",
        "  # Set the password for the user\n",
        "  echo \"$USERNAME:$PASSWORD\" | chpasswd\n",
        "\n",
        "  # Save username and password to the credentials file\n",
        "  echo \"Username: $USERNAME | Password: $PASSWORD\" >> \"$CREDENTIALS_LIST\"\n",
        "\n",
        "  echo \"Created user: $USERNAME\"\n",
        "done < \"$USER_LIST\"\n",
        "\n",
        "echo \"User creation completed. Credentials saved to $CREDENTIALS_LIST\"\n"
      ],
      "metadata": {
        "id": "uAcGZee57WZm"
      },
      "execution_count": null,
      "outputs": []
    },
    {
      "cell_type": "markdown",
      "source": [
        "Task 4: Automated Backup\n",
        "\n",
        "Create a script thatg\n",
        "- Takes a directory path as input from the user^\n",
        "- Compresses the directory into a .tar.gz file^\n",
        "- Saves the compressed file with a name that includes the current date (e.g., backup_2023-08-20.tar.gz).\n"
      ],
      "metadata": {
        "id": "Z3o--xs6L95Z"
      }
    },
    {
      "cell_type": "code",
      "source": [
        "#!/bin/bash\n",
        "\n",
        "read -p \"Enter the full path of the directory to backup: \" dir_path\n",
        "\n",
        "if [ ! -d \"$dir_path\" ]; then\n",
        "    echo \"Error: Directory does not exist.\"\n",
        "    exit 1\n",
        "fi\n",
        "\n",
        "current_date=$(date +%F)\n",
        "dir_name=$(basename \"$dir_path\")\n",
        "backup_file=\"${dir_name}_backup_${current_date}.tar.gz\"\n",
        "\n",
        "tar -czf \"$backup_file\" -C \"$(dirname \"$dir_path\")\" \"$dir_name\"\n",
        "\n",
        "if [ $? -eq 0 ]; then\n",
        "    echo \"Backup successful! File saved as $backup_file\"\n",
        "else\n",
        "    echo \"Backup failed!\"\n",
        "fi\n"
      ],
      "metadata": {
        "id": "2HquF61BMCVm"
      },
      "execution_count": null,
      "outputs": []
    },
    {
      "cell_type": "markdown",
      "source": [
        "Task 5: Simple To-Do List\n",
        "\n",
        "Create a Bash script thatg\n",
        "- Implements a simple command-line to-do list^\n",
        "- Allows the user to add tasks, view tasks, and remove tasks^\n",
        "- Saves the tasks to a file (e.g., todo.txt)."
      ],
      "metadata": {
        "id": "U4WG-xRmMHPC"
      }
    },
    {
      "cell_type": "code",
      "source": [
        "#!/bin/bash\n",
        "f=\"todo.txt\"; touch \"$f\"\n",
        "\n",
        "while true; do\n",
        "  echo -e \"\\n1) View  2) Add  3) Remove  4) Exit\"\n",
        "  read -p \"Choose: \" c\n",
        "  case $c in\n",
        "    1) [ -s \"$f\" ] && nl -w2 -s'. ' \"$f\" || echo \"No tasks\";;\n",
        "    2) read -p \"Task: \" t; [ -n \"$t\" ] && echo \"$t\" >> \"$f\" && echo \"Added!\";;\n",
        "    3)\n",
        "      [ ! -s \"$f\" ] && { echo \"No tasks\"; continue; }\n",
        "      nl -w2 -s'. ' \"$f\"\n",
        "      read -p \"No: \" n\n",
        "      [[ \"$n\" =~ ^[0-9]+$ ]] && sed -i \"${n}d\" \"$f\" && echo \"Removed!\" || echo \"Invalid!\"\n",
        "      ;;\n",
        "    4) echo \"Bye!\"; exit;;\n",
        "    *) echo \"Invalid\";;\n",
        "  esac\n",
        "done\n"
      ],
      "metadata": {
        "id": "3kSSrj7xYp25"
      },
      "execution_count": null,
      "outputs": []
    },
    {
      "cell_type": "markdown",
      "source": [
        "Task 6: Automated Software Installation\n",
        "\n",
        "Write a script thatg\n",
        "- Reads a list of software package names from a file (e.g., packages.txt)^\n",
        "- Installs each package using the appropriate package manager (apt, yum, etc.)^\n",
        "- Logs the installation status of each package."
      ],
      "metadata": {
        "id": "f2zvujhEahEK"
      }
    },
    {
      "cell_type": "code",
      "source": [
        "#!/bin/bash\n",
        "pkg_file=\"packages.txt\"\n",
        "log_file=\"install_log.txt\"\n",
        "touch \"$log_file\"\n",
        "if command -v apt >/dev/null 2>&1; then\n",
        "  PM=\"sudo apt install -y\"\n",
        "else\n",
        "  echo \"No supported package manager found (apt or yum).\"\n",
        "  exit 1\n",
        "fi\n",
        "while read -r pkg; do\n",
        "  [ -z \"$pkg\" ] && continue\n",
        "  echo \"Installing $pkg...\"\n",
        "  if $PM \"$pkg\" >> \"$log_file\" 2>&1; then\n",
        "    echo \"$pkg: Success\" >> \"$log_file\"\n",
        "  else\n",
        "    echo \"$pkg: Failed\" >> \"$log_file\"\n",
        "  fi\n",
        "done < \"$pkg_file\"\n",
        "\n",
        "echo \"Installation done! Check $log_file.\""
      ],
      "metadata": {
        "id": "tDNxDuLDaqXv"
      },
      "execution_count": null,
      "outputs": []
    },
    {
      "cell_type": "markdown",
      "source": [
        "Task 7: Text File Processing\n",
        "\n",
        "Create a script thatg\n",
        "- Takes a text file as input^\n",
        "- Counts and displays the number of lines, words, and characters in the file^\n",
        "- Finds and displays the longest word in the file."
      ],
      "metadata": {
        "id": "eGqlP8eCb2O5"
      }
    },
    {
      "cell_type": "code",
      "source": [
        "#!/bin/bash\n",
        "read -p \"Enter filename: \" file\n",
        "[ ! -f \"$file\" ] && { echo \"File not found!\"; exit 1; }\n",
        "\n",
        "\n",
        "echo \"Lines: $(wc -l < \"$file\")\"\n",
        "echo \"Words: $(wc -w < \"$file\")\"\n",
        "echo \"Characters: $(wc -m < \"$file\")\"\n",
        "\n",
        "\n",
        "longest=$(tr -s '[:space:]' '\\n' < \"$file\" | awk '{ if(length > L) {L=length; W=$0} } END{print W}')\n",
        "echo \"Longest word: $longest\"\n"
      ],
      "metadata": {
        "id": "1BismdiacD4U"
      },
      "execution_count": null,
      "outputs": []
    }
  ]
}